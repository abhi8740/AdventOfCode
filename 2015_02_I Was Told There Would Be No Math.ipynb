{
 "cells": [
  {
   "cell_type": "raw",
   "id": "a07bbac9",
   "metadata": {},
   "source": [
    "--- Day 2: I Was Told There Would Be No Math ---\n",
    "\n",
    "The elves are running low on wrapping paper, and so they need to submit an order for more. They have a list of the dimensions (length l, width w, and height h) of each present, and only want to order exactly as much as they need.\n",
    "\n",
    "Fortunately, every present is a box (a perfect right rectangular prism), which makes calculating the required wrapping paper for each gift a little easier: find the surface area of the box, which is 2*l*w + 2*w*h + 2*h*l. The elves also need a little extra paper for each present: the area of the smallest side.\n",
    "\n",
    "For example:\n",
    "\n",
    "    A present with dimensions 2x3x4 requires 2*6 + 2*12 + 2*8 = 52 square feet of wrapping paper plus 6 square feet of slack, for a total of 58 square feet.\n",
    "    A present with dimensions 1x1x10 requires 2*1 + 2*10 + 2*10 = 42 square feet of wrapping paper plus 1 square foot of slack, for a total of 43 square feet.\n",
    "\n",
    "All numbers in the elves' list are in feet. How many total square feet of wrapping paper should they order?"
   ]
  },
  {
   "cell_type": "markdown",
   "id": "ba616346",
   "metadata": {},
   "source": [
    "#### Part One"
   ]
  },
  {
   "cell_type": "code",
   "execution_count": 110,
   "id": "fa470de8",
   "metadata": {},
   "outputs": [],
   "source": [
    "# list of the dimensions (length l, width w, and height h)\n",
    "def required_wrapping_paper(dimensions):\n",
    "    l,w,h = int(dimensions[0]),int(dimensions[1]),int(dimensions[2])\n",
    "    surface_area = 2*l*w + 2*w*h + 2*h*l\n",
    "    additional_paper = min(l*w,w*h,h*l)\n",
    "    return surface_area+additional_paper    "
   ]
  },
  {
   "cell_type": "code",
   "execution_count": 111,
   "id": "65f27125",
   "metadata": {},
   "outputs": [
    {
     "data": {
      "text/plain": [
       "58"
      ]
     },
     "execution_count": 111,
     "metadata": {},
     "output_type": "execute_result"
    }
   ],
   "source": [
    "required_wrapping_paper([2,3,4])"
   ]
  },
  {
   "cell_type": "code",
   "execution_count": 2,
   "id": "cc9a865d",
   "metadata": {},
   "outputs": [],
   "source": [
    "import pandas as pd"
   ]
  },
  {
   "cell_type": "code",
   "execution_count": null,
   "id": "af7ffdc7",
   "metadata": {},
   "outputs": [],
   "source": [
    "import pandas as pd\n",
    "input_list_of_dimensions = pd.read_clipboard(sep=r'\\n',header=None)\n",
    "# extracting l,w and h for each box input into a list\n",
    "list_of_input = [item[-1].split('x') for item in input_list_of_dimensions[0].iteritems()]"
   ]
  },
  {
   "cell_type": "code",
   "execution_count": 3,
   "id": "f976e4a4",
   "metadata": {},
   "outputs": [],
   "source": [
    "input_list_of_dimensions = pd.read_clipboard(sep=r'\\n',header=None)"
   ]
  },
  {
   "cell_type": "code",
   "execution_count": 4,
   "id": "a95781e5",
   "metadata": {},
   "outputs": [
    {
     "data": {
      "text/plain": [
       "(1000, 1)"
      ]
     },
     "execution_count": 4,
     "metadata": {},
     "output_type": "execute_result"
    }
   ],
   "source": [
    "input_list_of_dimensions.shape"
   ]
  },
  {
   "cell_type": "code",
   "execution_count": 4,
   "id": "3e86103d",
   "metadata": {},
   "outputs": [
    {
     "data": {
      "text/plain": [
       "'4x23x21'"
      ]
     },
     "execution_count": 4,
     "metadata": {},
     "output_type": "execute_result"
    }
   ],
   "source": [
    "input_list_of_dimensions[0][0]"
   ]
  },
  {
   "cell_type": "code",
   "execution_count": 118,
   "id": "c391e449",
   "metadata": {},
   "outputs": [
    {
     "data": {
      "text/plain": [
       "['4', '23', '21']"
      ]
     },
     "execution_count": 118,
     "metadata": {},
     "output_type": "execute_result"
    }
   ],
   "source": [
    "(input_list_of_dimensions[0][0].split('x'))"
   ]
  },
  {
   "cell_type": "code",
   "execution_count": 7,
   "id": "ddda3df3",
   "metadata": {},
   "outputs": [],
   "source": [
    "# extracting l,w and h for each box input into a list\n",
    "list_of_input = [item[-1].split('x') for item in input_list_of_dimensions[0].iteritems()]"
   ]
  },
  {
   "cell_type": "code",
   "execution_count": 121,
   "id": "fb1b2c6e",
   "metadata": {},
   "outputs": [],
   "source": [
    "wrapping_paper_required = list(map(required_wrapping_paper,list_of_input))"
   ]
  },
  {
   "cell_type": "code",
   "execution_count": 150,
   "id": "cc90672b",
   "metadata": {},
   "outputs": [
    {
     "data": {
      "text/plain": [
       "1598415"
      ]
     },
     "execution_count": 150,
     "metadata": {},
     "output_type": "execute_result"
    }
   ],
   "source": [
    "sum(wrapping_paper_required)"
   ]
  },
  {
   "cell_type": "markdown",
   "id": "8ee7c314",
   "metadata": {},
   "source": [
    "------------"
   ]
  },
  {
   "cell_type": "markdown",
   "id": "1991c096",
   "metadata": {},
   "source": [
    "#### Part Two"
   ]
  },
  {
   "cell_type": "raw",
   "id": "2c50956e",
   "metadata": {},
   "source": [
    "--- Part Two ---\n",
    "\n",
    "The elves are also running low on ribbon. Ribbon is all the same width, so they only have to worry about the length they need to order, which they would again like to be exact.\n",
    "\n",
    "The ribbon required to wrap a present is the shortest distance around its sides, or the smallest perimeter of any one face. Each present also requires a bow made out of ribbon as well; the feet of ribbon required for the perfect bow is equal to the cubic feet of volume of the present. Don't ask how they tie the bow, though; they'll never tell.\n",
    "\n",
    "For example:\n",
    "\n",
    "    A present with dimensions 2x3x4 requires 2+2+3+3 = 10 feet of ribbon to wrap the present plus 2*3*4 = 24 feet of ribbon for the bow, for a total of 34 feet.\n",
    "    A present with dimensions 1x1x10 requires 1+1+1+1 = 4 feet of ribbon to wrap the present plus 1*1*10 = 10 feet of ribbon for the bow, for a total of 14 feet.\n",
    "\n",
    "How many total feet of ribbon should they order?"
   ]
  },
  {
   "cell_type": "code",
   "execution_count": 157,
   "id": "5df4b077",
   "metadata": {},
   "outputs": [
    {
     "data": {
      "text/plain": [
       "'3'"
      ]
     },
     "execution_count": 157,
     "metadata": {},
     "output_type": "execute_result"
    }
   ],
   "source": [
    "max(['2','3','123'])"
   ]
  },
  {
   "cell_type": "code",
   "execution_count": 34,
   "id": "94d8957d",
   "metadata": {},
   "outputs": [],
   "source": [
    "def ribbon_required(dimensions):\n",
    "    l,w,h = int(dimensions[0]),int(dimensions[1]),int(dimensions[2])\n",
    "    \n",
    "    max_dimension_index = max((int(dimension),index) for index,dimension in enumerate(dimensions))[-1]\n",
    "    \n",
    "    shortest_distance_around_sides = sum([2*int(dimension) for index,dimension in enumerate(dimensions) if index != max_dimension_index])\n",
    "    volume = l*w*h\n",
    "\n",
    "    return shortest_distance_around_sides+volume"
   ]
  },
  {
   "cell_type": "code",
   "execution_count": 35,
   "id": "9d384067",
   "metadata": {},
   "outputs": [],
   "source": [
    "total_ribbon_required = list(map(ribbon_required,list_of_input))"
   ]
  },
  {
   "cell_type": "code",
   "execution_count": 36,
   "id": "cc9f1271",
   "metadata": {},
   "outputs": [
    {
     "data": {
      "text/plain": [
       "3812909"
      ]
     },
     "execution_count": 36,
     "metadata": {},
     "output_type": "execute_result"
    }
   ],
   "source": [
    "sum(total_ribbon_required)"
   ]
  },
  {
   "cell_type": "markdown",
   "id": "a5ba1b31",
   "metadata": {},
   "source": [
    "### Suggestions on my code @ ChatGPT"
   ]
  },
  {
   "cell_type": "markdown",
   "id": "85ce4f3b",
   "metadata": {},
   "source": [
    "##### Part One"
   ]
  },
  {
   "cell_type": "raw",
   "id": "256e941f",
   "metadata": {},
   "source": [
    "    1.Use more meaningful variable names: The variable names \"input_list_of_dimensions\" can be more meaningful, such as \"input_data\".\n",
    "\n",
    "    2.Use built-in Python functions: Instead of using a list comprehension to extract the dimensions from the input, you can use the built-in Python function \"map\" to apply a function that extracts the dimensions from each input.\n",
    "\n",
    "    3.Use pandas to parse the input data: Pandas has several functions to parse various file types and delimiters, you could use them to parse your input data, instead of using the read_clipboard function, for example, if you have a csv file you can use pd.read_csv('file.csv')\n",
    "\n",
    "    4.Use the python built-in function enumerate to get both the index and the value of the input dimensions\n",
    "\n",
    "    6.Use built-in Python functions: Instead of using multiple assignment statements to unpack the dimensions, you can use the Python \"tuple unpacking\" feature to unpack the dimensions directly.\n",
    "\n",
    "    7.Use the python built-in function math.prod to get the volume of the box instead of multiple multiplication\n",
    "\n",
    "    8.Use the python built-in function min to get the minimum surface area instead of multiple if statements"
   ]
  },
  {
   "cell_type": "code",
   "execution_count": 9,
   "id": "7e88bb58",
   "metadata": {},
   "outputs": [],
   "source": [
    "import pandas as pd\n",
    "input_data = pd.read_clipboard(sep='\\n',header=None)"
   ]
  },
  {
   "cell_type": "code",
   "execution_count": 12,
   "id": "63970e4b",
   "metadata": {},
   "outputs": [],
   "source": [
    "def extract_dimensions(input_data):\n",
    "    return [int(d) for d in input_data.split(\"x\")]\n",
    "\n",
    "list_of_input = [extract_dimensions(item) for item in input_data[0]]"
   ]
  },
  {
   "cell_type": "code",
   "execution_count": 13,
   "id": "13088c2d",
   "metadata": {},
   "outputs": [
    {
     "name": "stdout",
     "output_type": "stream",
     "text": [
      "1628281\n"
     ]
    }
   ],
   "source": [
    "import math\n",
    "def required_wrapping_paper(length, width, height):\n",
    "    lw = length*width\n",
    "    wh = width*length\n",
    "    hl = height*length\n",
    "    \n",
    "    surface_area = 2*(lw+wh+hl)\n",
    "    additional_paper_required = min(lw,wh,hl)\n",
    "    \n",
    "    return surface_area + additional_paper_required\n",
    "\n",
    "total_paper_required = 0\n",
    "for box_dimensions in list_of_input:\n",
    "    total_paper_required += required_wrapping_paper(*box_dimensions)\n",
    "    \n",
    "print(total_paper_required)"
   ]
  },
  {
   "cell_type": "markdown",
   "id": "cc71ef6a",
   "metadata": {},
   "source": [
    "##### Part Two"
   ]
  },
  {
   "cell_type": "raw",
   "id": "51cdd8da",
   "metadata": {},
   "source": [
    "Here are a few suggestions to improve the code:\n",
    "\n",
    "    1.Use more meaningful variable names: The variable names l, w, and h can be more meaningful, such as \"length\", \"width\", and \"height\".\n",
    "\n",
    "    2.Use built-in Python functions: Instead of using a list comprehension to find the index of the maximum dimension, you can use the built-in Python function \"index()\" to find the index of the maximum value in the list.\n",
    "\n",
    "    3.Use the Python \"tuple unpacking\" feature: Instead of using the index operator to get the maximum index, you could use tuple unpacking to directly extract the index from the tuple returned by the max function.\n",
    "\n",
    "    4.Use the python built-in function sorted to sort the dimension and get the two smallest sides."
   ]
  },
  {
   "cell_type": "markdown",
   "id": "42ea779f",
   "metadata": {},
   "source": [
    "#### More Improved version by ChatGPT"
   ]
  },
  {
   "cell_type": "code",
   "execution_count": 14,
   "id": "787caa92",
   "metadata": {},
   "outputs": [
    {
     "data": {
      "text/plain": [
       "3812909"
      ]
     },
     "execution_count": 14,
     "metadata": {},
     "output_type": "execute_result"
    }
   ],
   "source": [
    "def ribbon_required(length, width, height):\n",
    "    max_dimension = max(length, width, height)\n",
    "    sides = sorted([length, width, height])[:2]\n",
    "    shortest_distance_around_sides = 2 * sum(sides)\n",
    "    volume = length * width * height\n",
    "\n",
    "    return shortest_distance_around_sides + volume\n",
    "\n",
    "total_ribbon_required = [ribbon_required(*dimensions) for dimensions in list_of_input]\n",
    "\n",
    "sum(total_ribbon_required)"
   ]
  },
  {
   "cell_type": "raw",
   "id": "296e4012",
   "metadata": {},
   "source": [
    "Here are a few suggestions to improve the code:\n",
    "\n",
    "    Use built-in Python functions: Instead of sorting the dimensions and taking the first two, you could use the built-in Python function \"heapq.nsmallest()\" to get the two smallest dimensions in one step.\n",
    "\n",
    "    Use a generator expression instead of a list comprehension: This can help improve the performance when the list_of_input is large, as it doesn't store the entire list in memory.\n",
    "\n",
    "    Use the python built-in function math.prod to get the volume of the box instead of multiple multiplication\n",
    "\n",
    "    Use the python built-in function sum to get the total ribbon required for all the boxes.\n",
    "\n",
    "Here is an example of how the improved version of the code would look like:"
   ]
  },
  {
   "cell_type": "code",
   "execution_count": 15,
   "id": "01c85699",
   "metadata": {},
   "outputs": [
    {
     "data": {
      "text/plain": [
       "3812909"
      ]
     },
     "execution_count": 15,
     "metadata": {},
     "output_type": "execute_result"
    }
   ],
   "source": [
    "import heapq\n",
    "import math\n",
    "\n",
    "def ribbon_required(length, width, height):\n",
    "    max_dimension = max(length, width, height)\n",
    "    sides = heapq.nsmallest(2, [length, width, height])\n",
    "    shortest_distance_around_sides = 2 * sum(sides)\n",
    "    volume = math.prod([length, width, height])\n",
    "\n",
    "    return shortest_distance_around_sides + volume\n",
    "\n",
    "total_ribbon_required = (ribbon_required(*dimensions) for dimensions in list_of_input)\n",
    "\n",
    "sum(total_ribbon_required)"
   ]
  },
  {
   "cell_type": "raw",
   "id": "bd4a1e50",
   "metadata": {},
   "source": [
    "Here are a few additional suggestions to improve the code:\n",
    "\n",
    "    Use type hints to make the function more readable and self-documenting, such as indicating the type of the function's parameters and the return value.\n",
    "\n",
    "    Use a variable to store the total ribbon required, and increment it with the value returned by the function, rather than creating a generator expression and passing it directly to the sum function, this way you can add some debugging information or check some conditions.\n",
    "\n",
    "    You could add some input validation to check that the input dimensions are valid positive integers, to avoid any errors or unexpected results.\n",
    "\n",
    "Here is an example of how the improved version of the code would look like:"
   ]
  },
  {
   "cell_type": "code",
   "execution_count": 16,
   "id": "96792f3b",
   "metadata": {},
   "outputs": [
    {
     "name": "stdout",
     "output_type": "stream",
     "text": [
      "3812909\n"
     ]
    }
   ],
   "source": [
    "import heapq\n",
    "import math\n",
    "from typing import List, Tuple\n",
    "\n",
    "def ribbon_required(length: int, width: int, height: int) -> int:\n",
    "    if not all(map(lambda x: x>0, [length, width, height])):\n",
    "        raise ValueError(\"All dimensions should be positive integers\")\n",
    "    sides = heapq.nsmallest(2, [length, width, height])\n",
    "    shortest_distance_around_sides = 2 * sum(sides)\n",
    "    volume = math.prod([length, width, height])\n",
    "\n",
    "    return shortest_distance_around_sides + volume\n",
    "\n",
    "total_ribbon_required = 0\n",
    "for dimensions in list_of_input:\n",
    "    total_ribbon_required += ribbon_required(*dimensions)\n",
    "print(total_ribbon_required)"
   ]
  }
 ],
 "metadata": {
  "kernelspec": {
   "display_name": "Python 3",
   "language": "python",
   "name": "python3"
  },
  "language_info": {
   "codemirror_mode": {
    "name": "ipython",
    "version": 3
   },
   "file_extension": ".py",
   "mimetype": "text/x-python",
   "name": "python",
   "nbconvert_exporter": "python",
   "pygments_lexer": "ipython3",
   "version": "3.8.8"
  }
 },
 "nbformat": 4,
 "nbformat_minor": 5
}
